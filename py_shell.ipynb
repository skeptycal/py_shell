{
 "cells": [
  {
   "cell_type": "code",
   "execution_count": 2,
   "metadata": {},
   "outputs": [],
   "source": [
    "#!/usr/bin/env python3\n",
    "# -*- encoding: utf-8 -*-\n",
    "###############################################################################\n",
    "# py_shell.py \n",
    "#\n",
    "# Returns: str -- python shell name. One of: ['IPython', 'IPython Notebook',\n",
    "#          'Jupyter Notebook', ‘CPython’, ‘IronPython’, ‘Jython’, ‘PyPy’]\n",
    "###############################################################################"
   ]
  },
  {
   "cell_type": "code",
   "execution_count": 3,
   "metadata": {},
   "outputs": [],
   "source": [
    "def py_shell() -> str:\n",
    "    \"\"\" Returns current python shell name.\n",
    "    \n",
    "        Returns:\n",
    "            str -- python shell name. One of: ['IPython', 'IPython Notebook',\n",
    "            'Jupyter Notebook', ‘CPython’, ‘IronPython’, ‘Jython’, ‘PyPy’]\n",
    "        \"\"\"\n",
    "    import os\n",
    "\n",
    "    PY_ENV: dict = os.environ\n",
    "    PY_BASE: str = os.path.basename(PY_ENV['_'])\n",
    "    shell: str = \"shell\"\n",
    "\n",
    "    if \"JPY_PARENT_PID\" in PY_ENV:\n",
    "        if \"jupyter-notebook\" in PY_BASE:\n",
    "            shell = \"Jupyter Notebook\"\n",
    "        else:\n",
    "            shell = \"IPython Notebook\"\n",
    "    elif \"ipython\" in PY_BASE:\n",
    "        shell = \"IPython\"\n",
    "    else: \n",
    "        # the 'platform' standard library was added in Python 2.6 on 01-Oct-2008 \n",
    "        # Some people recommend try/except ... but this is for python >= 3\n",
    "        import platform\n",
    "        shell = platform.python_implementation()\n",
    "    result = shell.strip()\n",
    "    return result"
   ]
  },
  {
   "cell_type": "code",
   "execution_count": 4,
   "metadata": {},
   "outputs": [
    {
     "name": "stdout",
     "output_type": "stream",
     "text": [
      "The current python shell is:  Jupyter Notebook\n"
     ]
    }
   ],
   "source": [
    "if __name__ == \"__main__\":\n",
    "    print(\"The current python shell is: \", py_shell())"
   ]
  },
  {
   "cell_type": "code",
   "execution_count": 5,
   "metadata": {},
   "outputs": [],
   "source": [
    "###############################################################################\n",
    "# - Tested on macOS version ...\n",
    "# ProductName:\tMac OS X\n",
    "# ProductVersion:\t10.14.3\n",
    "# BuildVersion:\t18D109\n",
    "# 24-Mar-2019\n",
    "#\n",
    "# @author    Michael Treanor  <skeptycal@gmail.com>\n",
    "# @copyright (c) 2019 Michael Treanor\n",
    "# @license   MIT <https://opensource.org/licenses/MIT>\n",
    "# @link      http://www.github.com/skeptycal\n",
    "###############################################################################"
   ]
  }
 ],
 "metadata": {
  "kernelspec": {
   "display_name": "Python 3",
   "language": "python",
   "name": "python3"
  },
  "language_info": {
   "codemirror_mode": {
    "name": "ipython",
    "version": 3
   },
   "file_extension": ".py",
   "mimetype": "text/x-python",
   "name": "python",
   "nbconvert_exporter": "python",
   "pygments_lexer": "ipython3",
   "version": "3.7.1"
  }
 },
 "nbformat": 4,
 "nbformat_minor": 2
}
